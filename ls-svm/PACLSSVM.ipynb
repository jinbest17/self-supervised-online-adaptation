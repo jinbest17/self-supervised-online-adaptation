{
 "cells": [
  {
   "cell_type": "code",
   "execution_count": 1,
   "metadata": {},
   "outputs": [],
   "source": [
    "import numpy as np\n",
    "from numpy.random import seed\n",
    "from numpy.random import randint\n",
    "from sklearn.cluster import KMeans\n",
    "from sklearn.datasets import load_svmlight_file\n",
    "from sklearn.utils import shuffle\n",
    "from sklearn.utils import random\n",
    "from lssvm import LSSVC\n",
    "from collections import defaultdict\n",
    "import matplotlib\n",
    "import matplotlib.pyplot as plt\n",
    "import matplotlib.colors as clrs\n",
    "\n",
    "import pandas as pd"
   ]
  },
  {
   "cell_type": "code",
   "execution_count": 2,
   "metadata": {},
   "outputs": [
    {
     "data": {
      "text/plain": [
       "array([7, 5, 1, 8, 7, 8, 2, 9, 7, 7, 7, 9, 8, 4, 2, 6, 4, 3, 0, 7])"
      ]
     },
     "execution_count": 2,
     "metadata": {},
     "output_type": "execute_result"
    }
   ],
   "source": [
    "seed(4)\n",
    "randint(0, 10, 20)"
   ]
  },
  {
   "cell_type": "code",
   "execution_count": 16,
   "metadata": {},
   "outputs": [
    {
     "name": "stdout",
     "output_type": "stream",
     "text": [
      "(445, 128)\n",
      "(445,)\n",
      "(1244, 128)\n",
      "(1244,)\n",
      "(1586, 128)\n",
      "(1586,)\n",
      "(161, 128)\n",
      "(161,)\n",
      "(197, 128)\n",
      "(197,)\n",
      "(2300, 128)\n",
      "(2300,)\n",
      "(3613, 128)\n",
      "(3613,)\n",
      "(294, 128)\n",
      "(294,)\n",
      "(470, 128)\n",
      "(470,)\n",
      "(3600, 128)\n",
      "(3600,)\n",
      "(128,)\n",
      "(128,)\n",
      "(128,)\n",
      "(128,)\n",
      "(128,)\n",
      "(128,)\n",
      "(128,)\n",
      "(128,)\n",
      "(128,)\n",
      "(128,)\n"
     ]
    }
   ],
   "source": [
    "# load data\n",
    "\n",
    "\n",
    "data_path = '../../Dataset'\n",
    "\n",
    "# Data loading\n",
    "\n",
    "data= []\n",
    "X_all = []\n",
    "y_all = []\n",
    "for i in range(1,11):\n",
    "    data.append(load_svmlight_file(data_path + \"/batch\" +str(i)+\".dat\"))\n",
    "    X_all.append(data[i-1][0].toarray())\n",
    "    y_all.append(data[i-1][1])\n",
    "    print(X_all[i-1].shape)\n",
    "    print(y_all[i-1].shape)\n",
    "    \n",
    "\n",
    "#X_all[0], y_all[0] = oversample.fit_resample(X_all[0], y_all[0])\n",
    "\n",
    "Xmin = X_all[0].min(axis=0)\n",
    "Xmax = X_all[0].max(axis=0)\n",
    "\n",
    "def normalize(Xmin, Xmax, X):\n",
    "    for i in range(0, len(X)):\n",
    "        for j in range(0, len(X[0])):\n",
    "            X[i][j] = (X[i][j] - Xmin[j]) / (Xmax[j] - Xmin[j])\n",
    "    return X\n",
    "\n",
    "var_all = []\n",
    "for j in range(len(X_all)):\n",
    "    X_all[j] = normalize(Xmin,Xmax,X_all[j])\n",
    "    var_all.append(np.var(X_all[j], axis=0))\n",
    "    print(var_all[j].shape)\n",
    "X = X_all[0]\n",
    "y = y_all[0]\n",
    "X2 = X_all[1]\n",
    "y2 = y_all[1]\n",
    "\n",
    "X_train = X\n",
    "y_train = y\n",
    "X_test = X2\n",
    "y_test = y2\n",
    "\n"
   ]
  },
  {
   "cell_type": "code",
   "execution_count": 12,
   "metadata": {},
   "outputs": [
    {
     "data": {
      "text/plain": [
       "2.0    53\n",
       "1.0    45\n",
       "3.0    41\n",
       "6.0    34\n",
       "5.0    33\n",
       "4.0    12\n",
       "dtype: int64"
      ]
     },
     "execution_count": 12,
     "metadata": {},
     "output_type": "execute_result"
    },
    {
     "data": {
      "image/png": "[encoded data removed]",
      "text/plain": [
       "<Figure size 1152x576 with 2 Axes>"
      ]
     },
     "metadata": {
      "needs_background": "light"
     },
     "output_type": "display_data"
    }
   ],
   "source": [
    "# random sample within each cluster\n",
    "seed(1)\n",
    "\n",
    "clusters = 15\n",
    "kmeans = KMeans(n_clusters=clusters).fit(X)\n",
    "\n",
    "\n",
    "colors = ['red', 'blue','purple','green','brown','yellow', 'cyan', 'green']\n",
    "\n",
    "\n",
    "clusterList = defaultdict(list)\n",
    "\n",
    "for i in range(len(y)):\n",
    "    clusterList[kmeans.labels_[i]].append((X[i], y[i]))\n",
    "\n",
    "X_train = []\n",
    "y_train = []\n",
    "\n",
    "for key in clusterList:\n",
    "    sampleIdx = random.sample_without_replacement(n_population=len(clusterList[key]),  n_samples=len(clusterList[key])//2)\n",
    "    for j in sampleIdx:\n",
    "        X_train.append(clusterList[key][j][0])\n",
    "        y_train.append(clusterList[key][j][1])\n",
    "#print(X_train)\n",
    "#print(y_train)\n",
    "\n",
    "X_train_T = np.transpose(X_train)\n",
    "f, (ax1,ax2) = plt.subplots(1,2, figsize=(16,8))\n",
    "#ax1.scatter(X_T[0],X_T[1], c=kmeans.labels_)\n",
    "#ax2.scatter(X_train_T[0],X_train_T[1], c=y_train,cmap=matplotlib.colors.ListedColormap(colors[:6]))\n",
    "\n",
    "X_train, y_train = shuffle(X_train, y_train)\n",
    "classes = pd.Index(y_train)\n",
    "classes.value_counts()"
   ]
  },
  {
   "cell_type": "code",
   "execution_count": 32,
   "metadata": {},
   "outputs": [
    {
     "name": "stdout",
     "output_type": "stream",
     "text": [
      "0.9887640449438202\n",
      "0.767684887459807\n",
      "0.29192938209331654\n",
      "0.1366459627329193\n",
      "0.40609137055837563\n",
      "0.1573913043478261\n",
      "0.2078605037365071\n",
      "0.1768707482993197\n",
      "0.28936170212765955\n",
      "0.35916666666666663\n"
     ]
    }
   ],
   "source": [
    "\n",
    "def train_initial(sigma):\n",
    "    model = LSSVC(gamma=0.5, kernel='rbf', l = 5000000, dTh=0.5, sigma=sigma) # Class instantiation\n",
    "\n",
    "    model.fit(X_train, np.array(y_train)) # Fitting the model\n",
    "\n",
    "    for i in range(0,10):\n",
    "\n",
    "        y_pred2 = model.predict(X_all[i]).flatten()\n",
    "        count = 0\n",
    "        for j in range(0, len(y_all[i])):\n",
    "            if y_all[i][j] != y_pred2[j]:\n",
    "                count += 1\n",
    "        print(1-(count / len(y_pred2)))\n",
    "train_initial(0.7)\n",
    "    "
   ]
  },
  {
   "cell_type": "code",
   "execution_count": 18,
   "metadata": {},
   "outputs": [
    {
     "name": "stdout",
     "output_type": "stream",
     "text": [
      "0.9393258426966292\n",
      "0.5313504823151125\n",
      "0.5825977301387137\n",
      "0.6583850931677019\n",
      "0.4365482233502538\n",
      "0.5047826086956522\n",
      "0.4054802103515085\n",
      "0.2108843537414966\n",
      "0.28936170212765955\n",
      "0.3977777777777778\n"
     ]
    }
   ],
   "source": [
    "from sklearn.svm import SVC\n",
    "model2 = SVC()\n",
    "model2.fit(X_train, y_train)\n",
    "for i in range(0,10):\n",
    "    \n",
    "    y_pred2 = model2.predict(X_all[i]).flatten()\n",
    "    count = 0\n",
    "    for j in range(0, len(y_all[i])):\n",
    "        if y_all[i][j] != y_pred2[j]:\n",
    "            count += 1\n",
    "    print(1-(count / len(y_pred2)))"
   ]
  },
  {
   "cell_type": "code",
   "execution_count": 24,
   "metadata": {},
   "outputs": [
    {
     "name": "stdout",
     "output_type": "stream",
     "text": [
      "1.0\n"
     ]
    },
    {
     "data": {
      "text/plain": [
       "<matplotlib.collections.PathCollection at 0x7fa4fad98c50>"
      ]
     },
     "execution_count": 24,
     "metadata": {},
     "output_type": "execute_result"
    },
    {
     "data": {
      "image/png": "[encoded data removed]",
      "text/plain": [
       "<Figure size 576x576 with 1 Axes>"
      ]
     },
     "metadata": {
      "needs_background": "light"
     },
     "output_type": "display_data"
    }
   ],
   "source": [
    "print(y_pred2[0])\n",
    "fig = plt.figure(figsize=(8,8))\n",
    "colors = ['red', 'blue','purple','green','brown','yellow']\n",
    "plt.scatter(X2_T[0],X2_T[1], c=y_pred2 , cmap=matplotlib.colors.ListedColormap(colors))"
   ]
  },
  {
   "cell_type": "code",
   "execution_count": 33,
   "metadata": {},
   "outputs": [
    {
     "name": "stdout",
     "output_type": "stream",
     "text": [
      "refitting at index 0\n",
      "refitting at index 1\n",
      "refitting at index 14\n",
      "refitting at index 15\n",
      "refitting at index 18\n",
      "refitting at index 28\n",
      "refitting at index 29\n",
      "refitting at index 31\n",
      "refitting at index 42\n",
      "refitting at index 43\n",
      "refitting at index 45\n",
      "refitting at index 56\n",
      "refitting at index 57\n",
      "refitting at index 59\n",
      "refitting at index 76\n",
      "refitting at index 77\n",
      "refitting at index 78\n",
      "refitting at index 79\n",
      "refitting at index 80\n",
      "refitting at index 89\n",
      "refitting at index 90\n",
      "refitting at index 91\n",
      "refitting at index 92\n",
      "refitting at index 93\n",
      "refitting at index 107\n",
      "refitting at index 108\n",
      "refitting at index 111\n",
      "refitting at index 112\n",
      "refitting at index 121\n",
      "refitting at index 122\n",
      "refitting at index 123\n",
      "refitting at index 124\n",
      "refitting at index 126\n",
      "refitting at index 135\n",
      "refitting at index 136\n",
      "refitting at index 137\n",
      "refitting at index 138\n",
      "refitting at index 140\n",
      "refitting at index 149\n",
      "refitting at index 150\n",
      "refitting at index 151\n",
      "refitting at index 152\n",
      "refitting at index 153\n",
      "refitting at index 154\n",
      "refitting at index 165\n",
      "refitting at index 166\n",
      "refitting at index 167\n",
      "refitting at index 168\n",
      "refitting at index 169\n",
      "refitting at index 179\n",
      "refitting at index 180\n",
      "refitting at index 181\n",
      "refitting at index 182\n",
      "refitting at index 183\n",
      "refitting at index 184\n",
      "refitting at index 193\n",
      "refitting at index 194\n",
      "refitting at index 195\n",
      "refitting at index 196\n",
      "refitting at index 197\n",
      "refitting at index 210\n",
      "refitting at index 211\n",
      "refitting at index 212\n",
      "refitting at index 213\n",
      "refitting at index 214\n",
      "refitting at index 215\n",
      "refitting at index 216\n",
      "refitting at index 235\n",
      "refitting at index 248\n",
      "refitting at index 261\n",
      "refitting at index 274\n",
      "refitting at index 287\n",
      "refitting at index 322\n",
      "refitting at index 323\n",
      "refitting at index 324\n",
      "refitting at index 326\n",
      "refitting at index 331\n",
      "refitting at index 335\n",
      "refitting at index 336\n",
      "refitting at index 337\n",
      "refitting at index 338\n",
      "refitting at index 339\n",
      "refitting at index 344\n",
      "refitting at index 348\n",
      "refitting at index 349\n",
      "refitting at index 350\n",
      "refitting at index 351\n",
      "refitting at index 352\n",
      "refitting at index 357\n",
      "refitting at index 361\n",
      "refitting at index 362\n",
      "refitting at index 363\n",
      "refitting at index 364\n",
      "refitting at index 365\n",
      "refitting at index 404\n",
      "refitting at index 405\n",
      "refitting at index 407\n",
      "refitting at index 408\n",
      "refitting at index 417\n",
      "refitting at index 418\n",
      "refitting at index 419\n",
      "refitting at index 420\n",
      "refitting at index 421\n",
      "refitting at index 430\n",
      "refitting at index 431\n",
      "refitting at index 432\n",
      "refitting at index 433\n",
      "refitting at index 434\n",
      "refitting at index 443\n",
      "refitting at index 444\n",
      "refitting at index 445\n",
      "refitting at index 446\n",
      "refitting at index 447\n",
      "refitting at index 456\n",
      "refitting at index 457\n",
      "refitting at index 458\n",
      "refitting at index 459\n",
      "refitting at index 460\n",
      "refitting at index 1062\n",
      "refitting at index 1063\n",
      "refitting at index 1064\n",
      "refitting at index 1065\n",
      "refitting at index 1066\n",
      "refitting at index 1067\n",
      "refitting at index 1068\n",
      "refitting at index 1069\n",
      "refitting at index 1070\n",
      "refitting at index 1071\n",
      "refitting at index 1072\n",
      "refitting at index 1073\n",
      "refitting at index 1074\n",
      "refitting at index 1075\n",
      "refitting at index 1076\n",
      "refitting at index 1077\n",
      "refitting at index 1078\n",
      "refitting at index 1079\n",
      "refitting at index 1080\n",
      "refitting at index 1081\n",
      "0.7154340836012862\n",
      "refitting at index 1507\n",
      "refitting at index 1508\n",
      "refitting at index 1509\n",
      "refitting at index 1510\n",
      "refitting at index 1511\n",
      "refitting at index 1512\n",
      "refitting at index 1513\n",
      "refitting at index 1514\n",
      "refitting at index 1515\n",
      "refitting at index 1516\n",
      "refitting at index 1517\n",
      "refitting at index 1518\n",
      "refitting at index 1519\n",
      "refitting at index 1520\n",
      "refitting at index 1521\n",
      "refitting at index 1522\n",
      "refitting at index 1523\n",
      "refitting at index 1524\n",
      "refitting at index 1525\n",
      "refitting at index 1526\n",
      "0.36443883984867587\n",
      "0.3229813664596274\n",
      "0.47208121827411165\n",
      "0.33913043478260874\n",
      "0.25408247993357325\n",
      "0.15646258503401356\n",
      "0.37446808510638296\n",
      "0.45777777777777773\n"
     ]
    },
    {
     "ename": "IndexError",
     "evalue": "list index out of range",
     "output_type": "error",
     "traceback": [
      "\u001b[0;31m---------------------------------------------------------------------------\u001b[0m",
      "\u001b[0;31mIndexError\u001b[0m                                Traceback (most recent call last)",
      "\u001b[0;32m<ipython-input-33-346d5e5a4f09>\u001b[0m in \u001b[0;36m<module>\u001b[0;34m\u001b[0m\n\u001b[1;32m      5\u001b[0m \u001b[0;32mfor\u001b[0m \u001b[0mi\u001b[0m \u001b[0;32min\u001b[0m \u001b[0mrange\u001b[0m\u001b[0;34m(\u001b[0m\u001b[0;36m1\u001b[0m\u001b[0;34m,\u001b[0m\u001b[0;36m11\u001b[0m\u001b[0;34m)\u001b[0m\u001b[0;34m:\u001b[0m\u001b[0;34m\u001b[0m\u001b[0;34m\u001b[0m\u001b[0m\n\u001b[1;32m      6\u001b[0m \u001b[0;34m\u001b[0m\u001b[0m\n\u001b[0;32m----> 7\u001b[0;31m     \u001b[0my_pred2\u001b[0m \u001b[0;34m=\u001b[0m \u001b[0mmodel\u001b[0m\u001b[0;34m.\u001b[0m\u001b[0mfit_online\u001b[0m\u001b[0;34m(\u001b[0m\u001b[0mX_all\u001b[0m\u001b[0;34m[\u001b[0m\u001b[0mi\u001b[0m\u001b[0;34m]\u001b[0m\u001b[0;34m)\u001b[0m\u001b[0;34m\u001b[0m\u001b[0;34m\u001b[0m\u001b[0m\n\u001b[0m\u001b[1;32m      8\u001b[0m     \u001b[0mcount\u001b[0m \u001b[0;34m=\u001b[0m \u001b[0;36m0\u001b[0m\u001b[0;34m\u001b[0m\u001b[0;34m\u001b[0m\u001b[0m\n\u001b[1;32m      9\u001b[0m     \u001b[0;32mfor\u001b[0m \u001b[0mj\u001b[0m \u001b[0;32min\u001b[0m \u001b[0mrange\u001b[0m\u001b[0;34m(\u001b[0m\u001b[0;36m0\u001b[0m\u001b[0;34m,\u001b[0m \u001b[0mlen\u001b[0m\u001b[0;34m(\u001b[0m\u001b[0my_all\u001b[0m\u001b[0;34m[\u001b[0m\u001b[0mi\u001b[0m\u001b[0;34m]\u001b[0m\u001b[0;34m)\u001b[0m\u001b[0;34m)\u001b[0m\u001b[0;34m:\u001b[0m\u001b[0;34m\u001b[0m\u001b[0;34m\u001b[0m\u001b[0m\n",
      "\u001b[0;31mIndexError\u001b[0m: list index out of range"
     ]
    }
   ],
   "source": [
    "model = LSSVC(gamma=1, kernel='rbf', l = 1000000,  dTh=0.4, sigma=1) # Class instantiation\n",
    "\n",
    "model.fit(X_train, np.array(y_train)) # Fitting the model\n",
    "\n",
    "for i in range(1,11):\n",
    "    \n",
    "    y_pred2 = model.fit_online(X_all[i])\n",
    "    count = 0\n",
    "    for j in range(0, len(y_all[i])):\n",
    "        if y_all[i][j] != y_pred2[j]:\n",
    "            count += 1\n",
    "    print(1-(count / len(y_pred2)))\n",
    "\n",
    "#y_pred4 = model.fit_online(X2)"
   ]
  },
  {
   "cell_type": "code",
   "execution_count": 26,
   "metadata": {},
   "outputs": [
    {
     "name": "stdout",
     "output_type": "stream",
     "text": [
      "1\n"
     ]
    }
   ],
   "source": [
    "print(len(y_pred4[4]))"
   ]
  },
  {
   "cell_type": "code",
   "execution_count": 27,
   "metadata": {},
   "outputs": [
    {
     "name": "stdout",
     "output_type": "stream",
     "text": [
      "0.7934083601286174\n"
     ]
    }
   ],
   "source": [
    "count = 0\n",
    "for i in range(0, len(y2)):\n",
    "    if y2[i] != y_pred4[i]:\n",
    "        count += 1\n",
    "print(1-(count / len(y2)))"
   ]
  },
  {
   "cell_type": "code",
   "execution_count": 28,
   "metadata": {},
   "outputs": [
    {
     "name": "stdout",
     "output_type": "stream",
     "text": [
      "[  0.   0.   0.   0. 456.   0.   0.   0.   0.   0.   0.   0. 193.   0.\n",
      " 112.   0.   0.   0.   0.   0.   0.   0.   0.   0.   0.   0.   0.   0.\n",
      " 216.   0.   0.   0. 459.   0.   0.   0.   0.   0.   0.   0.   0.   0.\n",
      "   0.   0.   0.   0.   0.   0.   0.   0.   0.   0.   0.   0.   0.   0.\n",
      "   0.   0.   0.   0.   0.   0.   0.   0.   0.   0.   0.   0.   0.   0.\n",
      "   0.   0.   0. 444.   0.   0. 214.   0.   0.   0.   0.   0.   0.   0.\n",
      "   0.   0.   0.   0.   0.   0.   0.   0.   0.   0.   0. 215.   0.   0.\n",
      "   0.   0.   0.   0.   0.   0.   0.   0.   0.   0.   0.   0.   0.   0.\n",
      "   0.   0.   0.   0.   0.   0.   0.   0.   0.   0.   0.   0.   0.   0.\n",
      "   0.   0.   0.   0.   0.   0.   0.   0.   0.   0.   0.   0.   0.   0.\n",
      "   0.   0.   0.   0.   0.   0.   0.   0.   0.   0.   0.   0. 460.   0.\n",
      "   0.   0.   0.   0.   0.   0.   0.   0.   0.  56.   0.   0.   0.   0.\n",
      "   0.   0.   0.   0.   0.   0.   0.   0.   0.   0.   0.   0.   0.   0.\n",
      "   0.   0.   0.   0.   0. 457.   0.   0.]\n"
     ]
    }
   ],
   "source": [
    "print(model.t)"
   ]
  },
  {
   "cell_type": "code",
   "execution_count": null,
   "metadata": {},
   "outputs": [],
   "source": []
  }
 ],
 "metadata": {
  "kernelspec": {
   "display_name": "Python 3",
   "language": "python",
   "name": "python3"
  },
  "language_info": {
   "codemirror_mode": {
    "name": "ipython",
    "version": 3
   },
   "file_extension": ".py",
   "mimetype": "text/x-python",
   "name": "python",
   "nbconvert_exporter": "python",
   "pygments_lexer": "ipython3",
   "version": "3.7.6"
  }
 },
 "nbformat": 4,
 "nbformat_minor": 4
}
